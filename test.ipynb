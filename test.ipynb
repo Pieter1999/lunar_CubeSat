{
 "cells": [
  {
   "cell_type": "markdown",
   "metadata": {},
   "source": [
    "# CubeSat attitude control - TEST FILE\n",
    "\n",
    "This test file is meant to test the classes and other lines of code used for the thesis research. It will therefore contain Python windows with smaller unit tests and their results. Verification methods are also tested throughout this file. Packages are imported independently and constants will be retrieved from the Constants class."
   ]
  },
  {
   "cell_type": "code",
   "execution_count": 1,
   "metadata": {},
   "outputs": [],
   "source": [
    "import numpy as np\n",
    "import scipy as sc\n",
    "from scipy.integrate import RK45\n",
    "import matplotlib.pyplot as plt\n",
    "from mpl_toolkits.mplot3d import Axes3D\n",
    "import pandas as pd\n",
    "from astroquery.jplhorizons import Horizons\n",
    "import datetime\n",
    "import sys\n",
    "import control as c\n",
    "import serial as serial\n",
    "import sliplib as slip\n",
    "import classes as cl\n",
    "from astropy.time import Time\n",
    "from scipy.linalg import null_space\n",
    "\n",
    "# %run ./simulation.ipynb"
   ]
  },
  {
   "cell_type": "markdown",
   "metadata": {},
   "source": [
    "### Paper examples\n",
    "\n",
    "\n",
    "Paper in question is \"Robust Optimal Solution to the Attitude/Force Control Problem\" from Peña and Alonso. The method, stated in Theorem 1, was adapted in the paper \"Attitude Control for the LUMIO CubeSat in Deep Space\".\n",
    "\n",
    "To do: Verify that you indeed take two nullspace vectors in case of redundant thrusters. Also check if it works for more than 4 thrusters."
   ]
  },
  {
   "cell_type": "code",
   "execution_count": 13,
   "metadata": {},
   "outputs": [
    {
     "name": "stdout",
     "output_type": "stream",
     "text": [
      "[[0.56762945 0.05077133 0.51685812 0.        ]]\n"
     ]
    }
   ],
   "source": [
    "def thruster_ax(theta):\n",
    "    return np.array([np.sin(theta), 0, np.cos(theta)])\n",
    "\n",
    "x1, x2, x3, x4 = 0.5, 1, -1, 1\n",
    "y1, y2, y3, y4 = -1, -1, 1, 1\n",
    "z1, z2, z3, z4 = -1, -1, -1, -1\n",
    "th1, th2, th3, th4 = np.deg2rad(10), np.deg2rad(-10), np.deg2rad(10), np.deg2rad(-10)\n",
    "\n",
    "d_1 = np.array([x1, y1, z1])\n",
    "d_2 = np.array([x2, y2, z2])\n",
    "d_3 = np.array([x3, y3, z3])\n",
    "d_4 = np.array([x4, y4, z4])\n",
    "\n",
    "e_1 = thruster_axes(th1)\n",
    "e_2 = thruster_axes(th2)\n",
    "e_3 = thruster_axes(th3)\n",
    "e_4 = thruster_axes(th4)\n",
    "\n",
    "A = np.column_stack((np.cross(d_1, e_1), np.cross(d_2, e_2), np.cross(d_3, e_3), np.cross(d_4, e_4)))\n",
    "\n",
    "A_test = np.array([[y1 * np.cos(th1), (z1*np.sin(th1) - x1*np.cos(th1)), -y1*np.sin(th1)], [y2 * np.cos(th2), (z2*np.sin(th2) - x2*np.cos(th2)), -y2*np.sin(th2)], [y3 * np.cos(th3), (z3*np.sin(th3) - x3*np.cos(th3)), -y3*np.sin(th3)], [y4 * np.cos(th4), (z4*np.sin(th4) - x4*np.cos(th4)), -y4*np.sin(th4)]]).T\n",
    "\n",
    "kern_A = null_space(A)\n",
    "\n",
    "pseudo_A = np.linalg.pinv(A)\n",
    "\n",
    "torque = np.array([-0.1, 0, 0])\n",
    "\n",
    "a  = -pseudo_A @ torque\n",
    "gamma_list = []\n",
    "\n",
    "for i in range(len(a)):\n",
    "    gamma_list.append(a[i] / kern_A[i])\n",
    "\n",
    "gamma = max(gamma_list)\n",
    "F = pseudo_A @ torque + (gamma * kern_A.T)\n",
    "\n",
    "print(F)"
   ]
  },
  {
   "cell_type": "markdown",
   "metadata": {},
   "source": [
    "### New setup verification\n",
    "\n",
    "Adjust the angle definitions from the paper, create A-matrix, check results"
   ]
  },
  {
   "cell_type": "code",
   "execution_count": 3,
   "metadata": {},
   "outputs": [
    {
     "name": "stdout",
     "output_type": "stream",
     "text": [
      "[[0.7042951 ]\n",
      " [0.06299532]\n",
      " [0.7042951 ]\n",
      " [0.06299532]]\n",
      "[[0.56762945 0.05077133 0.51685812 0.        ]]\n"
     ]
    }
   ],
   "source": [
    "def thruster_axes(phi, lam):\n",
    "    return np.array([np.cos(lam)*np.cos(np.pi / 2 - phi), np.sin(lam), np.cos(lam)*np.cos(phi)])\n",
    "\n",
    "x1, x2, x3, x4 = 0.5, 1, -1, 1\n",
    "y1, y2, y3, y4 = -1, -1, 1, 1\n",
    "z1, z2, z3, z4 = -1, -1, -1, -1\n",
    "\n",
    "d_1 = np.array([x1, y1, z1])\n",
    "d_2 = np.array([x2, y2, z2])\n",
    "d_3 = np.array([x3, y3, z3])\n",
    "d_4 = np.array([x4, y4, z4])\n",
    "\n",
    "phi1, phi2, phi3, phi4 = np.deg2rad(10), np.deg2rad(-10), np.deg2rad(10), np.deg2rad(-10)\n",
    "lam1, lam2, lam3, lam4 = 0, 0, 0, 0\n",
    "\n",
    "e_1 = thruster_axes(phi1, lam1)\n",
    "e_2 = thruster_axes(phi2, lam2)\n",
    "e_3 = thruster_axes(phi3, lam3)\n",
    "e_4 = thruster_axes(phi4, lam4)\n",
    "\n",
    "A = np.column_stack((np.cross(d_1, e_1), np.cross(d_2, e_2), np.cross(d_3, e_3), np.cross(d_4, e_4)))\n",
    "\n",
    "kern_A = null_space(A)\n",
    "\n",
    "pseudo_A = np.linalg.pinv(A)\n",
    "\n",
    "torque = np.array([-0.1, 0, 0])\n",
    "\n",
    "a  = -pseudo_A @ torque\n",
    "gamma_list = []\n",
    "\n",
    "for i in range(len(a)):\n",
    "    gamma_list.append(a[i] / kern_A[i])\n",
    "\n",
    "gamma = max(gamma_list)\n",
    "F = pseudo_A @ torque + (gamma * kern_A.T)\n",
    "\n",
    "print(kern_A)\n",
    "print(F)"
   ]
  },
  {
   "cell_type": "markdown",
   "metadata": {},
   "source": [
    "### Thesis version\n",
    "\n",
    "First step: see if we can adjust it to the LUMIO thruster set-up from the ADCS descriptive papers.\n",
    "\n",
    "LUMIO setup worked correctly.\n",
    "\n",
    "Addition: one extra thruster on one of the corners of the base plate."
   ]
  },
  {
   "cell_type": "code",
   "execution_count": 46,
   "metadata": {},
   "outputs": [
    {
     "name": "stdout",
     "output_type": "stream",
     "text": [
      "[[-0.1682142  -0.66539199]\n",
      " [-0.00083796  0.46218829]\n",
      " [ 0.60477546 -0.51813553]\n",
      " [ 0.70328567  0.19599906]\n",
      " [ 0.33367527  0.19171704]]\n",
      "[-0.09017697 -0.0542435   0.04717507 -0.07038028  0.01724016]\n",
      "-0.1682142026148788\n",
      "-0.0008379550468383147\n",
      "0.6047754638490144\n",
      "0.7032856674317921\n",
      "0.3336752735538076\n",
      "[-10.79886532   0.          39.10187119  45.59630647  21.58262542]\n",
      "-0.6653919916536404\n",
      "0.4621882873858297\n",
      "-0.518135531859371\n",
      "0.1959990619867804\n",
      "0.19171703829254338\n",
      "[ 0.          0.11688138 -0.11739517  0.09694297  0.00874221]\n"
     ]
    }
   ],
   "source": [
    "# Thruster data\n",
    "def thruster_axes(phi, lam):\n",
    "    return np.array([np.cos(lam)*np.cos(np.pi / 2 - phi), np.sin(lam), np.cos(lam)*np.cos(phi)])\n",
    "\n",
    "c = (np.sqrt(10**2 + 10**2)-10) / 2 * np.cos(np.pi / 4) / 100 # in m\n",
    "\n",
    "x_L_1, x_L_2, x_L_3, x_L_4 =  c, -0.1+c, -c, 0.1 - c\n",
    "y_L_1, y_L_2, y_L_3, y_L_4 = -0.15, -0.15, -0.15, -0.15\n",
    "z_L_1, z_L_2, z_L_3, z_L_4 = -0.1+c, c, 0.1 - c, -c\n",
    "\n",
    "x_L_5, y_L_5, z_L_5 = -0.1, -0.15, -0.1 # Corner of the plate\n",
    "\n",
    "phi_L_1, phi_L_2, phi_L_3, phi_L_4 = np.pi / 2, 0, 3/2*np.pi, np.pi\n",
    "lam_L_1, lam_L_2, lam_L_3, lam_L_4 = np.deg2rad(110), np.deg2rad(80), np.deg2rad(80), np.deg2rad(80)\n",
    "\n",
    "phi_L_5, lam_L_5 = np.deg2rad(250), np.deg2rad(80) # same cant angle, slightly pointed inwards\n",
    "\n",
    "d_L_1 = np.array([x_L_1, y_L_1, z_L_1])\n",
    "d_L_2 = np.array([x_L_2, y_L_2, z_L_2])\n",
    "d_L_3 = np.array([x_L_3, y_L_3, z_L_3])\n",
    "d_L_4 = np.array([x_L_4, y_L_4, z_L_4])\n",
    "d_L_5 = np.array([x_L_5, y_L_5, z_L_5])\n",
    "\n",
    "e_L_1 = thruster_axes(phi_L_1, lam_L_1)\n",
    "e_L_2 = thruster_axes(phi_L_2, lam_L_2)\n",
    "e_L_3 = thruster_axes(phi_L_3, lam_L_3)\n",
    "e_L_4 = thruster_axes(phi_L_4, lam_L_4)\n",
    "e_L_5 = thruster_axes(phi_L_5, lam_L_5)\n",
    "\n",
    "A_L = np.column_stack((np.cross(d_L_1, e_L_1), np.cross(d_L_2, e_L_2), np.cross(d_L_3, e_L_3), np.cross(d_L_4, e_L_4), np.cross(d_L_5, e_L_5)))\n",
    "\n",
    "kern_A_L = null_space(A_L)\n",
    "print(kern_A_L)\n",
    "pseudo_A_L = np.linalg.pinv(A_L)\n",
    "torqu = np.array([0.01, 0.005, 0.002])\n",
    "a_L  = -pseudo_A_L @ torqu\n",
    "\n",
    "if kern_A_L.shape[1] > 1:\n",
    "    for j in range(kern_A_L.shape[1]):\n",
    "        gamma_list = []\n",
    "        for i in range(len(a_L)):\n",
    "            print(kern_A_L.T[j][i])\n",
    "            gamma_list.append(a_L[i] / kern_A_L.T[j][i])\n",
    "        gamma_L = max(gamma_list)\n",
    "        F_LUMIO = pseudo_A_L @ torqu + (gamma_L * kern_A_L.T[j])\n",
    "        print(F_LUMIO)\n",
    "\n",
    "else:\n",
    "    gamma_list = []\n",
    "    gamma_L = max(gamma_list)\n",
    "    F_LUMIO = pseudo_A_L @ torqu + (gamma_L * kern_A_L.T)\n",
    "\n",
    "    # print(pseudo_A_L)\n",
    "    # print(kern_A_L)\n",
    "    # print(F_LUMIO)\n"
   ]
  },
  {
   "cell_type": "markdown",
   "metadata": {},
   "source": [
    "### Test generalized code\n",
    "\n",
    "Works for 6 thrusters, more to be tested"
   ]
  },
  {
   "cell_type": "code",
   "execution_count": 25,
   "metadata": {},
   "outputs": [
    {
     "name": "stdout",
     "output_type": "stream",
     "text": [
      "Minimum force vector: [0.00977275 0.01131188 0.01787757 0.01047185 0.00710651 0.        ]\n",
      "Minimum force magnitude: 0.026518577163725524\n"
     ]
    }
   ],
   "source": [
    "def thruster_axes(phi, lam):\n",
    "    return np.array([np.cos(lam) * np.cos(np.pi / 2 - phi), np.sin(lam), np.cos(lam) * np.cos(phi)])\n",
    "\n",
    "def thruster_configuration(array_thrusters):\n",
    "    num_thrusters = len(array_thrusters)\n",
    "    d = np.zeros((3, num_thrusters))\n",
    "    e = np.zeros((3, num_thrusters))\n",
    "\n",
    "    for i in range(num_thrusters):\n",
    "        x, y, z, phi, lam = array_thrusters[i]\n",
    "        d[:, i] = [x, y, z]\n",
    "        e[:, i] = thruster_axes(np.deg2rad(phi), np.deg2rad(lam))\n",
    "\n",
    "    A_L = np.column_stack([np.cross(d[:, i], e[:, i]) for i in range(num_thrusters)])\n",
    "    kern_A_L = null_space(A_L)\n",
    "\n",
    "    # Error handling for the kernel\n",
    "    valid_kernels = [kern_A_L[:, i] for i in range(kern_A_L.shape[1]) if np.all(kern_A_L[:, i] > 0)]\n",
    "\n",
    "    if not valid_kernels:\n",
    "        print(\"No valid kernel found. All kernels have non-positive elements.\")\n",
    "        return\n",
    "\n",
    "    # Compute control actions if valid kernels exist\n",
    "    torqu = np.array([0.001, 0.00003, 0.002])\n",
    "    pseudo_A_L = np.linalg.pinv(A_L)\n",
    "    a_L = -pseudo_A_L @ torqu\n",
    "\n",
    "    min_force = np.inf\n",
    "    best_F_LUMIO = None\n",
    "\n",
    "    for j in range(len(valid_kernels)):\n",
    "        gamma_list = [a_L[i] / valid_kernels[j][i] for i in range(len(a_L))]\n",
    "        gamma_L = max(gamma_list)\n",
    "        F_LUMIO = pseudo_A_L @ torqu + (gamma_L * valid_kernels[j])\n",
    "        force_magnitude = np.linalg.norm(F_LUMIO)\n",
    "\n",
    "        if force_magnitude < min_force:\n",
    "            min_force = force_magnitude\n",
    "            best_F_LUMIO = F_LUMIO\n",
    "\n",
    "    print(\"Minimum force vector:\", best_F_LUMIO)\n",
    "    print(\"Minimum force magnitude:\", min_force)\n",
    "\n",
    "# Example usage\n",
    "array_thrusters = [\n",
    "    [0.5, -1, -1, 10, 0],\n",
    "    [1, -1, -1, -10, 0],\n",
    "    [-1, 1, -1, 10, 0],\n",
    "    [1, 1, -1, -10, 0],\n",
    "    [-1,-1,1,30,0],\n",
    "    [1,1,1,30,0]\n",
    "]\n",
    "\n",
    "\n",
    "thruster_configuration(array_thrusters)"
   ]
  },
  {
   "cell_type": "markdown",
   "metadata": {},
   "source": [
    "### With thrust limits"
   ]
  },
  {
   "cell_type": "code",
   "execution_count": 3,
   "metadata": {},
   "outputs": [
    {
     "ename": "ValueError",
     "evalue": "too many values to unpack (expected 5)",
     "output_type": "error",
     "traceback": [
      "\u001b[0;31m---------------------------------------------------------------------------\u001b[0m",
      "\u001b[0;31mValueError\u001b[0m                                Traceback (most recent call last)",
      "Cell \u001b[0;32mIn[3], line 62\u001b[0m\n\u001b[1;32m     59\u001b[0m k4 \u001b[38;5;241m=\u001b[39m \u001b[38;5;241m0.8\u001b[39m\n\u001b[1;32m     60\u001b[0m thrusters \u001b[38;5;241m=\u001b[39m cl\u001b[38;5;241m.\u001b[39mthruster_allocation(cont, lim, k4)\n\u001b[0;32m---> 62\u001b[0m T \u001b[38;5;241m=\u001b[39m \u001b[43mthrusters\u001b[49m\u001b[38;5;241;43m.\u001b[39;49m\u001b[43mthruster_configuration\u001b[49m\u001b[43m(\u001b[49m\u001b[43marray_thrusters\u001b[49m\u001b[43m)\u001b[49m\n",
      "File \u001b[0;32m~/Library/Mobile Documents/com~apple~CloudDocs/Thesis/Research Phase/lunar_CubeSat/classes.py:669\u001b[0m, in \u001b[0;36mthruster_allocation.thruster_configuration\u001b[0;34m(self, array_thrusters)\u001b[0m\n\u001b[1;32m    666\u001b[0m e \u001b[38;5;241m=\u001b[39m np\u001b[38;5;241m.\u001b[39mzeros((\u001b[38;5;241m3\u001b[39m, num_thrusters))\n\u001b[1;32m    668\u001b[0m \u001b[38;5;28;01mfor\u001b[39;00m i \u001b[38;5;129;01min\u001b[39;00m \u001b[38;5;28mrange\u001b[39m(num_thrusters):\n\u001b[0;32m--> 669\u001b[0m     x, y, z, phi, lam \u001b[38;5;241m=\u001b[39m array_thrusters[i]\n\u001b[1;32m    670\u001b[0m     d[:, i] \u001b[38;5;241m=\u001b[39m [x, y, z]\n\u001b[1;32m    671\u001b[0m     e[:, i] \u001b[38;5;241m=\u001b[39m \u001b[38;5;28mself\u001b[39m\u001b[38;5;241m.\u001b[39mthruster_axes(np\u001b[38;5;241m.\u001b[39mdeg2rad(phi), np\u001b[38;5;241m.\u001b[39mdeg2rad(lam))\n",
      "\u001b[0;31mValueError\u001b[0m: too many values to unpack (expected 5)"
     ]
    }
   ],
   "source": [
    "def thruster_configuration_lim(array_thrusters, lim_value):\n",
    "    num_thrusters = len(array_thrusters)\n",
    "    thrust_limit = np.ones(num_thrusters) * lim_value # Assuming equal limits for each thruster\n",
    "    d = np.zeros((3, num_thrusters))\n",
    "    e = np.zeros((3, num_thrusters))\n",
    "\n",
    "    for i in range(num_thrusters):\n",
    "        x, y, z, phi, lam = array_thrusters[i]\n",
    "        d[:, i] = [x, y, z]\n",
    "        e[:, i] = thruster_axes(np.deg2rad(phi), np.deg2rad(lam))\n",
    "\n",
    "    A_L = np.column_stack([np.cross(d[:, i], e[:, i]) for i in range(num_thrusters)])\n",
    "    kern_A_L = null_space(A_L)\n",
    "\n",
    "    # Error handling for the kernel\n",
    "    valid_kernels = [kern_A_L[:, i] for i in range(kern_A_L.shape[1]) if np.all(kern_A_L[:, i] > 0)]\n",
    "\n",
    "    if not valid_kernels:\n",
    "        print(\"No valid kernel found. All kernels have non-positive elements.\")\n",
    "        return\n",
    "\n",
    "    # Compute control actions if valid kernels exist\n",
    "    torqu = np.array([0.001, 0.00003, 0.002])\n",
    "    pseudo_A_L = np.linalg.pinv(A_L)\n",
    "    a_L = -pseudo_A_L @ torqu\n",
    "\n",
    "    min_force = np.inf\n",
    "    best_F_LUMIO = None\n",
    "\n",
    "    for j in range(len(valid_kernels)):\n",
    "        gamma_list = [thrust_limit[i] - a_L[i] / valid_kernels[j][i] for i in range(len(a_L))]\n",
    "        gamma_L = min(gamma_list)\n",
    "        F_LUMIO = pseudo_A_L @ torqu + (gamma_L * valid_kernels[j])\n",
    "        force_magnitude = np.linalg.norm(F_LUMIO)\n",
    "\n",
    "        if force_magnitude < min_force:\n",
    "            min_force = force_magnitude\n",
    "            best_F_LUMIO = F_LUMIO\n",
    "\n",
    "    if np.any(best_F_LUMIO < 0):\n",
    "        print(\"Error: Negative thrust instance detected in the optimal force vector.\")\n",
    "    else:\n",
    "        print(\"Minimum force vector:\", best_F_LUMIO)\n",
    "        print(\"Minimum force magnitude:\", min_force)\n",
    "\n",
    "# Example usage\n",
    "array_thrusters = [\n",
    "    [0.5, -1, -1, 10, 0, 0.1],\n",
    "    [1, -1, -1, -10, 0, 0.1],\n",
    "    [-1, 1, -1, 10, 0, 0.1],\n",
    "    [1, 1, -1, -10, 0, 0.1],\n",
    "    [-1,-1,1,30,0, 0.1],\n",
    "    [1,1,1,30,0, 0.1],\n",
    "]\n",
    "\n",
    "\n",
    "cont = np.array([0.1, 0.003, 0.005])\n",
    "lim = np.array([0.1, 0.002, 0.3])\n",
    "k4 = 0.8\n",
    "thrusters = cl.thruster_allocation(cont, lim, k4)\n",
    "\n",
    "T = thrusters.thruster_configuration(array_thrusters)\n",
    "\n",
    "\n"
   ]
  },
  {
   "cell_type": "code",
   "execution_count": 55,
   "metadata": {},
   "outputs": [
    {
     "ename": "SyntaxError",
     "evalue": "invalid syntax (778360473.py, line 25)",
     "output_type": "error",
     "traceback": [
      "\u001b[0;36m  Cell \u001b[0;32mIn[55], line 25\u001b[0;36m\u001b[0m\n\u001b[0;31m    if a => b:\u001b[0m\n\u001b[0m         ^\u001b[0m\n\u001b[0;31mSyntaxError\u001b[0m\u001b[0;31m:\u001b[0m invalid syntax\n"
     ]
    }
   ],
   "source": [
    "array_thrusters = [\n",
    "    [0.5, -1, -1, 10, 0,5],\n",
    "    [1, -1, -1, -10, 0,3],\n",
    "    [-1, 1, -1, 10, 0,2],\n",
    "    [1, 1, -1, -10, 0,1],\n",
    "    [-1,-1,1,30,0,3],\n",
    "    [1,1,1,30,0,4],\n",
    "]\n",
    "\n",
    "print(array_thrusters[1][0])\n",
    "\n",
    "t = np.ones(5)\n",
    "lim = np.array([1,2,3,4,5])\n",
    "\n",
    "num_thrusters = len(array_thrusters)\n",
    "lim_values = [array_thrusters[i][-1] for i in range(len(array_thrusters))]\n",
    "thrust_limit = np.ones(num_thrusters) * lim_values # Assuming equal limits for each thruster\n",
    "\n",
    "print(thrust_limit)\n",
    "\n",
    "a = 5\n",
    "b = 6\n",
    "c = 5\n",
    "\n",
    "if a => b:\n",
    "    print(c)\n"
   ]
  },
  {
   "cell_type": "code",
   "execution_count": 17,
   "metadata": {},
   "outputs": [
    {
     "name": "stdout",
     "output_type": "stream",
     "text": [
      "[[-0.09901485 -0.09901466 -0.09902466 -0.09900485 -0.09901377 -0.09901573]\n",
      " [-0.99014852 -0.99014656 -0.99014656 -0.99014852 -0.99014774 -0.99014735]\n",
      " [-0.09900485 -0.09902466 -0.09901466 -0.09901485 -0.09901377 -0.09901573]]\n",
      "[-0.09901485 -0.99014852 -0.09900485]\n"
     ]
    }
   ],
   "source": [
    "S_loc_1 = np.array([0, 0, 0.1])\n",
    "S_loc_2 = np.array([0, 0, -0.1])\n",
    "S_loc_3 = np.array([-0.1, 0, 0])\n",
    "S_loc_4 = np.array([0.1, 0, 0])\n",
    "S_loc_5 = np.array([0, -0.1, 0])\n",
    "S_loc_6 = np.array([0, 0.1, 0])\n",
    "\n",
    "position_Sun_Moon = np.array([1000, 10000, 1000])\n",
    "position_SC_Moon = np.array([10, 100, 10])\n",
    "c_p = np.column_stack([S_loc_1, S_loc_2, S_loc_3, S_loc_4, S_loc_5, S_loc_6]) # Centre of pressure locations for calculation\n",
    "n_s = np.array([[0,0,1,-1,0,0], [0,0,0,0,1,-1],[-1,1,0,0,0,0]])\n",
    "r_S_SC = position_Sun_Moon - position_SC_Moon\n",
    "S = np.column_stack([(S_loc_1 - r_S_SC) / np.linalg.norm(S_loc_1 - r_S_SC), (S_loc_2 - r_S_SC) / np.linalg.norm(S_loc_2 - r_S_SC), (S_loc_3 - r_S_SC) / np.linalg.norm(S_loc_3 - r_S_SC), (S_loc_4 - r_S_SC) / np.linalg.norm(S_loc_4 - r_S_SC), (S_loc_5 - r_S_SC) / np.linalg.norm(S_loc_5 - r_S_SC), (S_loc_6 - r_S_SC) / np.linalg.norm(S_loc_6 - r_S_SC)])\n",
    "\n",
    "print(S)\n",
    "\n",
    "print(S.T[0])\n"
   ]
  },
  {
   "cell_type": "code",
   "execution_count": 23,
   "metadata": {},
   "outputs": [
    {
     "name": "stdout",
     "output_type": "stream",
     "text": [
      "[0. 0. 0.]\n",
      "[-1 14 -9]\n",
      "[21 57 93]\n"
     ]
    }
   ],
   "source": [
    "control_torque = [1,2,3]\n",
    "lower_limit_torque = [5, 1, 1]\n",
    "k4 = 0.1\n",
    "\n",
    "cross = np.cross(control_torque, lower_limit_torque)\n",
    "\n",
    "test = np.empty(3)\n",
    "\n",
    "test[0], test[1], test[2] = np.zeros(3)\n",
    "\n",
    "print(test)\n",
    "print(cross)\n",
    "\n",
    "array = np.array([\n",
    "    [1, 2, 3, 4, 5, 6],\n",
    "    [7, 8, 9, 10, 11, 12],\n",
    "    [13, 14, 15, 16, 17, 18]\n",
    "])\n",
    "\n",
    "# Summing across the columns to reduce each row to a single sum value\n",
    "row_sums = array.sum(axis=1)\n",
    "\n",
    "print(row_sums)"
   ]
  },
  {
   "cell_type": "code",
   "execution_count": null,
   "metadata": {},
   "outputs": [],
   "source": []
  }
 ],
 "metadata": {
  "kernelspec": {
   "display_name": "PyKepEnv",
   "language": "python",
   "name": "python3"
  },
  "language_info": {
   "codemirror_mode": {
    "name": "ipython",
    "version": 3
   },
   "file_extension": ".py",
   "mimetype": "text/x-python",
   "name": "python",
   "nbconvert_exporter": "python",
   "pygments_lexer": "ipython3",
   "version": "3.11.7"
  }
 },
 "nbformat": 4,
 "nbformat_minor": 2
}
